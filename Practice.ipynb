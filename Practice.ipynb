{
  "nbformat": 4,
  "nbformat_minor": 0,
  "metadata": {
    "colab": {
      "name": "Practice.ipynb",
      "provenance": [],
      "authorship_tag": "ABX9TyOH50O6JIing39A2i/J/vvM",
      "include_colab_link": true
    },
    "kernelspec": {
      "name": "python3",
      "display_name": "Python 3"
    }
  },
  "cells": [
    {
      "cell_type": "markdown",
      "metadata": {
        "id": "view-in-github",
        "colab_type": "text"
      },
      "source": [
        "<a href=\"https://colab.research.google.com/github/ankushanubhav/Decodr/blob/master/Practice.ipynb\" target=\"_parent\"><img src=\"https://colab.research.google.com/assets/colab-badge.svg\" alt=\"Open In Colab\"/></a>"
      ]
    },
    {
      "cell_type": "code",
      "metadata": {
        "id": "ZDMGBcL0r8Os",
        "colab_type": "code",
        "colab": {}
      },
      "source": [
        "l1 = [3,5,2,7,4]\n"
      ],
      "execution_count": 0,
      "outputs": []
    },
    {
      "cell_type": "code",
      "metadata": {
        "id": "r6xNo7W9O6EP",
        "colab_type": "code",
        "colab": {
          "base_uri": "https://localhost:8080/",
          "height": 33
        },
        "outputId": "433cb108-b548-4197-a50b-5657df4260f7"
      },
      "source": [
        "num = len(l1)\n",
        "print (num)"
      ],
      "execution_count": 8,
      "outputs": [
        {
          "output_type": "stream",
          "text": [
            "5\n"
          ],
          "name": "stdout"
        }
      ]
    },
    {
      "cell_type": "code",
      "metadata": {
        "id": "LqVUVVxkQJ12",
        "colab_type": "code",
        "colab": {
          "base_uri": "https://localhost:8080/",
          "height": 98
        },
        "outputId": "5c1fdb56-09c6-4901-daeb-5905eb3d22e3"
      },
      "source": [
        "for i in l1:\n",
        "  print (i)"
      ],
      "execution_count": 13,
      "outputs": [
        {
          "output_type": "stream",
          "text": [
            "3\n",
            "5\n",
            "2\n",
            "7\n",
            "4\n"
          ],
          "name": "stdout"
        }
      ]
    },
    {
      "cell_type": "code",
      "metadata": {
        "id": "WSaxol5HEIz9",
        "colab_type": "code",
        "colab": {
          "base_uri": "https://localhost:8080/",
          "height": 240
        },
        "outputId": "9bf12039-67b3-4074-a7a7-8a8ded86067e"
      },
      "source": [
        "N = int(input())\n",
        "mini = 101\n",
        "mini2 = 102\n",
        "a = []\n",
        "for i in range(N):\n",
        "    name = raw_input()\n",
        "    mark = float(input())\n",
        "    if mark<mini:\n",
        "        mini2 = mini\n",
        "        mini = mark\n",
        "    elif mark!=mini and mark<mini2:\n",
        "        mini2 = mark\n",
        "    a.append([name, mark])\n",
        "b = [x[0] for x in a if x[1]==mini2]\n",
        "b.sort()\n",
        "for y in b:\n",
        "    print "
      ],
      "execution_count": 12,
      "outputs": [
        {
          "output_type": "stream",
          "text": [
            "5\n"
          ],
          "name": "stdout"
        },
        {
          "output_type": "error",
          "ename": "NameError",
          "evalue": "ignored",
          "traceback": [
            "\u001b[0;31m---------------------------------------------------------------------------\u001b[0m",
            "\u001b[0;31mNameError\u001b[0m                                 Traceback (most recent call last)",
            "\u001b[0;32m<ipython-input-12-d7180bf9a113>\u001b[0m in \u001b[0;36m<module>\u001b[0;34m()\u001b[0m\n\u001b[1;32m      4\u001b[0m \u001b[0ma\u001b[0m \u001b[0;34m=\u001b[0m \u001b[0;34m[\u001b[0m\u001b[0;34m]\u001b[0m\u001b[0;34m\u001b[0m\u001b[0;34m\u001b[0m\u001b[0m\n\u001b[1;32m      5\u001b[0m \u001b[0;32mfor\u001b[0m \u001b[0mi\u001b[0m \u001b[0;32min\u001b[0m \u001b[0mrange\u001b[0m\u001b[0;34m(\u001b[0m\u001b[0mN\u001b[0m\u001b[0;34m)\u001b[0m\u001b[0;34m:\u001b[0m\u001b[0;34m\u001b[0m\u001b[0;34m\u001b[0m\u001b[0m\n\u001b[0;32m----> 6\u001b[0;31m     \u001b[0mname\u001b[0m \u001b[0;34m=\u001b[0m \u001b[0mraw_input\u001b[0m\u001b[0;34m(\u001b[0m\u001b[0;34m)\u001b[0m\u001b[0;34m\u001b[0m\u001b[0;34m\u001b[0m\u001b[0m\n\u001b[0m\u001b[1;32m      7\u001b[0m     \u001b[0mmark\u001b[0m \u001b[0;34m=\u001b[0m \u001b[0mfloat\u001b[0m\u001b[0;34m(\u001b[0m\u001b[0minput\u001b[0m\u001b[0;34m(\u001b[0m\u001b[0;34m)\u001b[0m\u001b[0;34m)\u001b[0m\u001b[0;34m\u001b[0m\u001b[0;34m\u001b[0m\u001b[0m\n\u001b[1;32m      8\u001b[0m     \u001b[0;32mif\u001b[0m \u001b[0mmark\u001b[0m\u001b[0;34m<\u001b[0m\u001b[0mmini\u001b[0m\u001b[0;34m:\u001b[0m\u001b[0;34m\u001b[0m\u001b[0;34m\u001b[0m\u001b[0m\n",
            "\u001b[0;31mNameError\u001b[0m: name 'raw_input' is not defined"
          ]
        }
      ]
    },
    {
      "cell_type": "code",
      "metadata": {
        "id": "eBzrjNmRKgv2",
        "colab_type": "code",
        "colab": {
          "base_uri": "https://localhost:8080/",
          "height": 228
        },
        "outputId": "58c64063-ae27-4b5a-a582-74499e3f5846"
      },
      "source": [
        "n = int(input())\n",
        "lst = []\n",
        "lst1 = []\n",
        "lst2 = []\n",
        "for i in range(0, n):\n",
        "    lst1 = str(input(\"Enter name of student: \"))\n",
        "    lst2 = float(input(\"Enter marks of student: \"))\n",
        "    lst.append([lst1, lst2])\n",
        "    print (lst)\n",
        "lst = sorted(lst, key=lambda x: x[1]);\n",
        "print (lst)\n",
        "for i in range(1, n):\n",
        "    if(lst[i][1] != lst[i-1][1]):\n",
        "        score = lst[i][1]\n",
        "        print (score)\n",
        "        break\n",
        "lst = sorted(lst);\n",
        "for i in range(n):\n",
        "    if(lst[i][1] == score):\n",
        "        print (lst[i][0])"
      ],
      "execution_count": 33,
      "outputs": [
        {
          "output_type": "stream",
          "text": [
            "3\n",
            "Enter name of student: 12\n",
            "Enter marks of student: 12\n",
            "[['12', 12.0]]\n",
            "Enter name of student: 11\n",
            "Enter marks of student: 11\n",
            "[['12', 12.0], ['11', 11.0]]\n",
            "Enter name of student: 23\n",
            "Enter marks of student: 23\n",
            "[['12', 12.0], ['11', 11.0], ['23', 23.0]]\n",
            "[['11', 11.0], ['12', 12.0], ['23', 23.0]]\n",
            "12.0\n",
            "12\n"
          ],
          "name": "stdout"
        }
      ]
    },
    {
      "cell_type": "code",
      "metadata": {
        "id": "J3VV8zwHdMa5",
        "colab_type": "code",
        "colab": {
          "base_uri": "https://localhost:8080/",
          "height": 147
        },
        "outputId": "22fa271d-c758-4f1a-df69-ec883a1e80d8"
      },
      "source": [
        "n = int(input())\n",
        "lst = []\n",
        "lst1 = []\n",
        "lst2 = []\n",
        "for i in range(0, n):\n",
        "    lst1 = str(input(\"Enter name of student: \"))\n",
        "    lst2 = float(input(\"Enter marks of student: \"))\n",
        "    lst.append([lst1, lst2])\n",
        "print (lst)\n",
        "for x in range(1, n):\n",
        "    if(lst[x][1] != lst[x-1][1]):\n",
        "        score = lst[x][1]\n",
        "        print (score)\n",
        "        break\n",
        "lst = sorted(lst);\n",
        "for x in range(n):\n",
        "    if(lst[x][1] == score):\n",
        "        print (lst[x][0])"
      ],
      "execution_count": 1,
      "outputs": [
        {
          "output_type": "stream",
          "text": [
            "2\n",
            "Enter name of student: 12\n",
            "Enter marks of student: 12\n",
            "Enter name of student: 23\n",
            "Enter marks of student: 23\n",
            "[['12', 12.0], ['23', 23.0]]\n",
            "23.0\n",
            "23\n"
          ],
          "name": "stdout"
        }
      ]
    },
    {
      "cell_type": "code",
      "metadata": {
        "id": "7cBx1xQl1KCH",
        "colab_type": "code",
        "colab": {
          "base_uri": "https://localhost:8080/",
          "height": 115
        },
        "outputId": "8744f89e-52b6-4535-940e-b8a2cef3058b"
      },
      "source": [
        "dict = {\"country\": [\"Brazil\", \"Russia\", \"India\", \"China\", \"South Africa\"],\n",
        "       \"capital\": [\"Brasilia\", \"Moscow\", \"New Delhi\", \"Beijing\", \"Pretoria\"],\n",
        "       \"area\": [8.516, 17.10, 3.286, 9.597, 1.221],\n",
        "       \"population\": [200.4, 143.5, 1252, 1357, 52.98] }\n",
        "\n",
        "import pandas as pd\n",
        "brics = pd.DataFrame(dict)\n",
        "print(brics)"
      ],
      "execution_count": 34,
      "outputs": [
        {
          "output_type": "stream",
          "text": [
            "        country    capital    area  population\n",
            "0        Brazil   Brasilia   8.516      200.40\n",
            "1        Russia     Moscow  17.100      143.50\n",
            "2         India  New Delhi   3.286     1252.00\n",
            "3         China    Beijing   9.597     1357.00\n",
            "4  South Africa   Pretoria   1.221       52.98\n"
          ],
          "name": "stdout"
        }
      ]
    },
    {
      "cell_type": "code",
      "metadata": {
        "id": "c4XcGWJh5Tex",
        "colab_type": "code",
        "colab": {
          "base_uri": "https://localhost:8080/",
          "height": 33
        },
        "outputId": "371b0465-1837-4416-b989-4ba177f4164f"
      },
      "source": [
        "t=[\"a\",\"b\",\"c\"]\n",
        "t.append(\"d\")\n",
        "print (t)"
      ],
      "execution_count": 47,
      "outputs": [
        {
          "output_type": "stream",
          "text": [
            "['a', 'b', 'c', 'd']\n"
          ],
          "name": "stdout"
        }
      ]
    },
    {
      "cell_type": "code",
      "metadata": {
        "id": "26HZ_An_Z5XZ",
        "colab_type": "code",
        "colab": {
          "base_uri": "https://localhost:8080/",
          "height": 212
        },
        "outputId": "9f9f4b4d-3c85-4161-837f-52e8cb48f637"
      },
      "source": [
        "l1=[]\n",
        "score_list=[]\n",
        "n= int(input(\"enter a no: \"))\n",
        "for i in range(0,n):\n",
        "  name = input()\n",
        "  score=float(input())\n",
        "  l1.append([name,score])\n",
        "  score_list.append(score)\n",
        "score_list.sort()\n",
        "score_list=list(set(score_list))\n",
        "score_list.sort()\n",
        "second_lowest=score_list[1]\n",
        "\n",
        "name=[]\n",
        "for i in l1:\n",
        "  try:\n",
        "    indx=i.index(second_lowest)\n",
        "    name.append(i[0])\n",
        "  except:\n",
        "    pass\n",
        "name.sort()\n",
        "for i in name:\n",
        "  print(i)\n"
      ],
      "execution_count": 4,
      "outputs": [
        {
          "output_type": "stream",
          "text": [
            "enter a no: 5\n",
            "ab\n",
            "23\n",
            "bc\n",
            "23\n",
            "dc\n",
            "34\n",
            "rf\n",
            "45\n",
            "er\n",
            "47\n",
            "dc\n"
          ],
          "name": "stdout"
        }
      ]
    }
  ]
}